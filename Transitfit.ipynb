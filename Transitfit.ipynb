{
 "cells": [
  {
   "cell_type": "markdown",
   "id": "copyrighted-audio",
   "metadata": {},
   "source": [
    "# Automatic Fit of Transit Ligthcurve"
   ]
  },
  {
   "cell_type": "markdown",
   "id": "84147599-d252-4f70-b548-5aeec013dd5b",
   "metadata": {},
   "source": [
    "In this notebook you will see how to use batman and transitfit packages to fit your transit lightcurve. \n",
    "\n",
    "Currently, the transitfit package crash during saving the results. But, you'll have access to the best parameters it finds. An [issue](https://github.com/joshjchayes/TransitFit/issues/10) is open on the github of the library. "
   ]
  },
  {
   "cell_type": "markdown",
   "id": "e9450259-dbf4-4bf9-9fa8-66ffe9378404",
   "metadata": {},
   "source": [
    "First, you need to install the requirements. Simply, run the two next lines and everything gonna be ok. "
   ]
  },
  {
   "cell_type": "code",
   "execution_count": 3,
   "id": "russian-traffic",
   "metadata": {
    "collapsed": true,
    "jupyter": {
     "outputs_hidden": true
    },
    "tags": []
   },
   "outputs": [
    {
     "name": "stdout",
     "output_type": "stream",
     "text": [
      "Requirement already satisfied: transitfit in /Users/gen06846/anaconda3/envs/QML/lib/python3.9/site-packages (2.2.5)\n",
      "Collecting transitfit\n",
      "  Downloading transitfit-2.3.0-py3-none-any.whl (308 kB)\n",
      "\u001b[K     |████████████████████████████████| 308 kB 4.6 MB/s eta 0:00:01\n",
      "\u001b[?25hRequirement already satisfied: numpy in /Users/gen06846/anaconda3/envs/QML/lib/python3.9/site-packages (from transitfit) (1.20.1)\n",
      "Requirement already satisfied: semantic-version in /Users/gen06846/anaconda3/envs/QML/lib/python3.9/site-packages (from transitfit) (2.8.5)\n",
      "Requirement already satisfied: dynesty in /Users/gen06846/anaconda3/envs/QML/lib/python3.9/site-packages (from transitfit) (1.1)\n",
      "Requirement already satisfied: matplotlib in /Users/gen06846/anaconda3/envs/QML/lib/python3.9/site-packages (from transitfit) (3.4.2)\n",
      "Requirement already satisfied: batman-package in /Users/gen06846/anaconda3/envs/QML/lib/python3.9/site-packages (from transitfit) (2.4.6)\n",
      "Requirement already satisfied: scipy in /Users/gen06846/anaconda3/envs/QML/lib/python3.9/site-packages (from transitfit) (1.6.1)\n",
      "Requirement already satisfied: ldtk in /Users/gen06846/anaconda3/envs/QML/lib/python3.9/site-packages (from transitfit) (1.6.0)\n",
      "Requirement already satisfied: pandas in /Users/gen06846/anaconda3/envs/QML/lib/python3.9/site-packages (from transitfit) (1.2.3)\n",
      "Requirement already satisfied: corner in /Users/gen06846/anaconda3/envs/QML/lib/python3.9/site-packages (from transitfit) (2.2.1)\n",
      "Requirement already satisfied: pyparsing>=2.2.1 in /Users/gen06846/anaconda3/envs/QML/lib/python3.9/site-packages (from matplotlib->transitfit) (2.4.7)\n",
      "Requirement already satisfied: kiwisolver>=1.0.1 in /Users/gen06846/anaconda3/envs/QML/lib/python3.9/site-packages (from matplotlib->transitfit) (1.3.1)\n",
      "Requirement already satisfied: pillow>=6.2.0 in /Users/gen06846/anaconda3/envs/QML/lib/python3.9/site-packages (from matplotlib->transitfit) (8.2.0)\n",
      "Requirement already satisfied: cycler>=0.10 in /Users/gen06846/anaconda3/envs/QML/lib/python3.9/site-packages (from matplotlib->transitfit) (0.10.0)\n",
      "Requirement already satisfied: python-dateutil>=2.7 in /Users/gen06846/anaconda3/envs/QML/lib/python3.9/site-packages (from matplotlib->transitfit) (2.8.1)\n",
      "Requirement already satisfied: six in /Users/gen06846/anaconda3/envs/QML/lib/python3.9/site-packages (from cycler>=0.10->matplotlib->transitfit) (1.16.0)\n",
      "Requirement already satisfied: astropy in /Users/gen06846/anaconda3/envs/QML/lib/python3.9/site-packages (from ldtk->transitfit) (4.2.1)\n",
      "Requirement already satisfied: tqdm in /Users/gen06846/anaconda3/envs/QML/lib/python3.9/site-packages (from ldtk->transitfit) (4.60.0)\n",
      "Requirement already satisfied: traitlets in /Users/gen06846/anaconda3/envs/QML/lib/python3.9/site-packages (from ldtk->transitfit) (5.0.5)\n",
      "Requirement already satisfied: tenacity in /Users/gen06846/anaconda3/envs/QML/lib/python3.9/site-packages (from ldtk->transitfit) (7.0.0)\n",
      "Requirement already satisfied: numba in /Users/gen06846/anaconda3/envs/QML/lib/python3.9/site-packages (from ldtk->transitfit) (0.53.1)\n",
      "Requirement already satisfied: pyerfa in /Users/gen06846/anaconda3/envs/QML/lib/python3.9/site-packages (from astropy->ldtk->transitfit) (1.7.3)\n",
      "Requirement already satisfied: setuptools in /Users/gen06846/anaconda3/envs/QML/lib/python3.9/site-packages (from numba->ldtk->transitfit) (52.0.0.post20210125)\n",
      "Requirement already satisfied: llvmlite<0.37,>=0.36.0rc1 in /Users/gen06846/anaconda3/envs/QML/lib/python3.9/site-packages (from numba->ldtk->transitfit) (0.36.0)\n",
      "Requirement already satisfied: pytz>=2017.3 in /Users/gen06846/anaconda3/envs/QML/lib/python3.9/site-packages (from pandas->transitfit) (2021.1)\n",
      "Requirement already satisfied: ipython-genutils in /Users/gen06846/anaconda3/envs/QML/lib/python3.9/site-packages (from traitlets->ldtk->transitfit) (0.2.0)\n",
      "Installing collected packages: transitfit\n",
      "  Attempting uninstall: transitfit\n",
      "    Found existing installation: transitfit 2.2.5\n",
      "    Uninstalling transitfit-2.2.5:\n",
      "      Successfully uninstalled transitfit-2.2.5\n",
      "Successfully installed transitfit-2.3.0\n"
     ]
    }
   ],
   "source": [
    "!pip install --upgrade transitfit\n"
   ]
  },
  {
   "cell_type": "code",
   "execution_count": 2,
   "id": "ed5c0275-a15a-465e-9e9c-f720d4497c8c",
   "metadata": {
    "collapsed": true,
    "jupyter": {
     "outputs_hidden": true
    },
    "tags": []
   },
   "outputs": [
    {
     "name": "stdout",
     "output_type": "stream",
     "text": [
      "Collecting tqdm\n",
      "  Downloading tqdm-4.60.0-py2.py3-none-any.whl (75 kB)\n",
      "\u001b[K     |████████████████████████████████| 75 kB 1.2 MB/s eta 0:00:01\n",
      "\u001b[?25hInstalling collected packages: tqdm\n",
      "Successfully installed tqdm-4.60.0\n"
     ]
    }
   ],
   "source": [
    "!pip install tqdm"
   ]
  },
  {
   "cell_type": "code",
   "execution_count": 1,
   "id": "concrete-image",
   "metadata": {},
   "outputs": [],
   "source": [
    "# import the packages \n",
    "%matplotlib inline\n",
    "import numpy as np\n",
    "import matplotlib.pyplot as plt\n",
    "import matplotlib as mpl\n",
    "from tqdm import tqdm\n",
    "mpl.style.use('seaborn')\n",
    "from scipy.io import netcdf\n",
    "\n"
   ]
  },
  {
   "cell_type": "code",
   "execution_count": 2,
   "id": "8e6fc4ae-4ebf-4df4-b9b5-5f060edfd235",
   "metadata": {},
   "outputs": [
    {
     "data": {
      "text/plain": [
       "'2.3.0'"
      ]
     },
     "execution_count": 2,
     "metadata": {},
     "output_type": "execute_result"
    }
   ],
   "source": [
    "import transitfit\n",
    "transitfit.__version__"
   ]
  },
  {
   "cell_type": "code",
   "execution_count": 2,
   "id": "cooked-procurement",
   "metadata": {},
   "outputs": [],
   "source": [
    "# import data for visualization\n",
    "data = np.loadtxt( '55Cance.dat' )\n",
    "\n",
    "    "
   ]
  },
  {
   "cell_type": "code",
   "execution_count": 3,
   "id": "sticky-pizza",
   "metadata": {},
   "outputs": [
    {
     "data": {
      "text/plain": [
       "[<matplotlib.lines.Line2D at 0x7fbe58465340>]"
      ]
     },
     "execution_count": 3,
     "metadata": {},
     "output_type": "execute_result"
    },
    {
     "data": {
      "image/png": "[encoded data removed]",
      "text/plain": [
       "<Figure size 720x576 with 1 Axes>"
      ]
     },
     "metadata": {},
     "output_type": "display_data"
    }
   ],
   "source": [
    "# visu \n",
    "plt.figure(figsize=(10,8))\n",
    "plt.plot(data[:, 0], data[:, 1], 'b.')\n",
    "\n"
   ]
  },
  {
   "cell_type": "markdown",
   "id": "27b6c080-383b-4fe2-941b-94aea612ad94",
   "metadata": {},
   "source": [
    "You can add an error on each point corresponding to a fix 0.00015"
   ]
  },
  {
   "cell_type": "code",
   "execution_count": 4,
   "id": "4ce63ebc-0916-424a-958f-2f74a9b62dee",
   "metadata": {},
   "outputs": [],
   "source": [
    "err = [list(i) for i in data]\n",
    "for i in err:\n",
    "    i.append(0.00015)\n",
    "# save the new file in txt, transitfit doesn't accept the .dat format\n",
    "np.savetxt('55Cance.txt',err) "
   ]
  },
  {
   "cell_type": "markdown",
   "id": "41f4acb1-0ca1-4f05-9e32-d41421f1371e",
   "metadata": {},
   "source": [
    "## JP - Code"
   ]
  },
  {
   "cell_type": "markdown",
   "id": "0821024b-3c25-4540-b11f-648a198540e1",
   "metadata": {},
   "source": [
    "Now, the code of the Jedi Master. "
   ]
  },
  {
   "cell_type": "code",
   "execution_count": 9,
   "id": "794d3e45-3bfc-457e-9980-288dbd8ab943",
   "metadata": {},
   "outputs": [
    {
     "data": {
      "image/png": "[encoded data removed]",
      "text/plain": [
       "<Figure size 864x720 with 1 Axes>"
      ]
     },
     "metadata": {},
     "output_type": "display_data"
    }
   ],
   "source": [
    "# working with batman-package and numpy == 1.8.0\n",
    "import batman\n",
    "import numpy as np\n",
    "import matplotlib.pyplot as plt\n",
    "file='55Cance.dat'\n",
    "data = np.loadtxt(file)\n",
    "t_data = data[:,0]-5567.8\n",
    "flux_data = data[:,1]\n",
    "err_data = flux_data-flux_data+0.00015\n",
    "Np_data = t_data.size\n",
    "params = batman.TransitParams()\n",
    "params.t0 = 0.0 #time of inferior conjunction\n",
    "params.per = 0.7 #orbital period\n",
    "params.rp = 0.023 #planet radius (in units of stellar radii)\n",
    "params.a = 1.1 #semi-major axis (in units of stellar radii)\n",
    "params.inc = 90 #orbital inclination (in degrees)\n",
    "params.ecc = 0. #eccentricity\n",
    "params.w = 90. #longitude of periastron (in degrees)\n",
    "params.u = [0.038,0.101] #limb darkening coefficients [u1, u2]\n",
    "params.limb_dark = \"quadratic\" #limb darkening model\n",
    "mod = batman.TransitModel(params, t_data) #calculating model for all tp values\n",
    "flux_mod = mod.light_curve(params) #calculating model for all tp values\n",
    "plt.figure(figsize=(12,10))\n",
    "plt.plot(t_data,flux_data, 'bo', label='Brut data')\n",
    "plt.errorbar(t_data,flux_data,yerr=err_data,capsize=5,ecolor='blue',fmt = 'none')\n",
    "plt.plot(t_data, flux_mod,'ro-', label='Best fit')\n",
    "plt.xlabel(\"Time from central transit\")\n",
    "plt.ylabel(\"Relative flux\")\n",
    "plt.title(\"transit\")\n",
    "plt.legend() # legend text comes from the plot's label parameter.\n",
    "plt.grid(True)\n",
    "plt.show()"
   ]
  },
  {
   "cell_type": "markdown",
   "id": "12d9aeaf-f492-4ca8-970f-24dce0d10735",
   "metadata": {},
   "source": [
    "Great, at this step, you know how to use batman and the different parameters to play with. Now, we will use a library call [TransitFit](https://arxiv.org/abs/2103.12139) to tune the parameters and the limbdarkening autonomously. The documentation of the library can be found [here](https://transitfit.readthedocs.io/en/latest/). "
   ]
  },
  {
   "cell_type": "markdown",
   "id": "ba933044-ca93-4207-ae0d-b442e686e075",
   "metadata": {},
   "source": [
    "## Transitfit"
   ]
  },
  {
   "cell_type": "markdown",
   "id": "10cf4af3-010d-474a-b792-22947df2844c",
   "metadata": {},
   "source": [
    "The first step is to create the different files needed to use transitfit. \n",
    "For that you need to create 3 files (2 needed, 1 optional). The input, the priors and the filter profiles. With these three files you can specify every telescope you have, the different filters, the wavelength etc etc... "
   ]
  },
  {
   "cell_type": "markdown",
   "id": "d8dce71b-e227-4276-9181-617a2769084a",
   "metadata": {},
   "source": [
    "### Input file"
   ]
  },
  {
   "cell_type": "code",
   "execution_count": 2,
   "id": "f9ba91b8-e6ff-4312-b1fa-acd531aee29e",
   "metadata": {},
   "outputs": [],
   "source": [
    "PATH = '55Cance.txt'"
   ]
  },
  {
   "cell_type": "code",
   "execution_count": 3,
   "id": "8803b91a-ae19-4eff-8e4b-abfa426c8320",
   "metadata": {},
   "outputs": [],
   "source": [
    "columns = ['Path', 'Telescope', 'Filter', 'Epoch', 'Detrending']"
   ]
  },
  {
   "cell_type": "code",
   "execution_count": 4,
   "id": "18d2fcdc-2799-46d4-b21a-d0897fd58e60",
   "metadata": {},
   "outputs": [],
   "source": [
    "data = []\n",
    "data.append([PATH, 0, 0, 0, 0])\n",
    "#data.append([PATH, 1, 0, 0, 0])\n"
   ]
  },
  {
   "cell_type": "code",
   "execution_count": 5,
   "id": "e1360d65-75b1-4a12-9727-0cc222e9d5d6",
   "metadata": {},
   "outputs": [],
   "source": [
    "df = pd.DataFrame(data=data)\n",
    "df.columns = columns"
   ]
  },
  {
   "cell_type": "code",
   "execution_count": 6,
   "id": "2fdced76-522e-4840-8133-c9c55c839525",
   "metadata": {},
   "outputs": [],
   "source": [
    "# input data\n",
    "df.to_csv('input_data.csv', sep=',', index=False)\n",
    "\n"
   ]
  },
  {
   "cell_type": "markdown",
   "id": "02a49f99-f81f-4900-b9d7-76417d700f0d",
   "metadata": {},
   "source": [
    "Then, we need to create the priors file. This file contains the parameters of the system."
   ]
  },
  {
   "cell_type": "markdown",
   "id": "9be0c42c-2452-4ab2-89a2-8ec36d812ece",
   "metadata": {},
   "source": [
    "### Priors file"
   ]
  },
  {
   "cell_type": "code",
   "execution_count": 7,
   "id": "4af07cc1-d7de-48f8-9736-04caa19ea309",
   "metadata": {},
   "outputs": [],
   "source": [
    "params = []"
   ]
  },
  {
   "cell_type": "code",
   "execution_count": 8,
   "id": "975d36e7-88db-4f41-93aa-6c5f4ddff4b7",
   "metadata": {},
   "outputs": [],
   "source": [
    "params.append(['P', 'gaussian', 0.7, 0.001, 0])\n",
    "params.append(['t0', 'gaussian', 0., 0.007, 0])\n",
    "params.append(['a', 'gaussian', 1.1, 0.5, 0])\n",
    "params.append(['inc', 'gaussian', 90, 1.2, 0])\n",
    "params.append(['ecc', 'fixed', 0., 0,0])\n",
    "params.append(['w', 'gaussian', 90, 1.2, 0])\n",
    "params.append(['rp', 'uniform', 0.023, 0.03, 0])\n",
    "params.append(['q0', 'gaussian', 0.038, 0.04, 0])\n",
    "params.append(['q0', 'gaussian', 0.101, 0.12, 0])"
   ]
  },
  {
   "cell_type": "code",
   "execution_count": 9,
   "id": "cc5cbc85-201b-41d7-9916-00bb2aa4e116",
   "metadata": {},
   "outputs": [
    {
     "data": {
      "text/plain": [
       "[['P', 'gaussian', 0.7, 0.001, 0],\n",
       " ['t0', 'gaussian', 0.0, 0.007, 0],\n",
       " ['a', 'gaussian', 1.1, 0.5, 0],\n",
       " ['inc', 'gaussian', 90, 1.2, 0],\n",
       " ['ecc', 'fixed', 0.0, 0, 0],\n",
       " ['w', 'gaussian', 90, 1.2, 0],\n",
       " ['rp', 'uniform', 0.023, 0.03, 0],\n",
       " ['q0', 'gaussian', 0.038, 0.04, 0],\n",
       " ['q0', 'gaussian', 0.101, 0.12, 0]]"
      ]
     },
     "execution_count": 9,
     "metadata": {},
     "output_type": "execute_result"
    }
   ],
   "source": [
    "params"
   ]
  },
  {
   "cell_type": "code",
   "execution_count": 10,
   "id": "2e99c87a-7ec6-4529-a7b4-cf74d7507b03",
   "metadata": {},
   "outputs": [],
   "source": [
    "df_params = pd.DataFrame(data=params)\n",
    "df_params.columns = ['Parameters', 'Distribution', 'InputA', 'InputB', 'Filter']"
   ]
  },
  {
   "cell_type": "code",
   "execution_count": 11,
   "id": "b9ce31f7-80fa-4e67-bad0-9bb9d88d62df",
   "metadata": {},
   "outputs": [],
   "source": [
    "df_params.to_csv('priors.csv', sep=',', index=False)"
   ]
  },
  {
   "cell_type": "markdown",
   "id": "55c3b5f8-78a9-4e8c-952b-3df111b884c5",
   "metadata": {},
   "source": [
    "### Filter profiles file"
   ]
  },
  {
   "cell_type": "code",
   "execution_count": 12,
   "id": "90364a99-742b-449e-baa5-000961c618c8",
   "metadata": {},
   "outputs": [],
   "source": [
    "df_filter = pd.DataFrame(data=[[0, 'R',0]])#.T\n",
    "\n",
    "df_filter.columns=['Filter', 'InputA', 'InputB']"
   ]
  },
  {
   "cell_type": "code",
   "execution_count": 13,
   "id": "7acc8a50-0688-4f0c-8141-b53aeb37bbe8",
   "metadata": {},
   "outputs": [],
   "source": [
    "df_filter.to_csv('filter_profiles.csv', sep=',', index=False)"
   ]
  },
  {
   "cell_type": "markdown",
   "id": "0fa6a43a-6edb-4f2d-b862-94eedc6846a8",
   "metadata": {},
   "source": [
    "## Fit the parameters "
   ]
  },
  {
   "cell_type": "code",
   "execution_count": 3,
   "id": "814b703a-0fe8-46a1-9b2d-a22c625fe924",
   "metadata": {},
   "outputs": [],
   "source": [
    "from transitfit import run_retrieval"
   ]
  },
  {
   "cell_type": "markdown",
   "id": "fc8ad2c8-fb2e-4e84-a2f8-845acde7e3f5",
   "metadata": {},
   "source": [
    "The function works autonomously but you need to create 2 folders: fitted_lightcurves and output_parameters. The function doesn't create them for you and will crash... Trust me... "
   ]
  },
  {
   "cell_type": "code",
   "execution_count": 4,
   "id": "a6790b60-bd10-4910-a33e-b78b8d9097e0",
   "metadata": {},
   "outputs": [
    {
     "name": "stderr",
     "output_type": "stream",
     "text": [
      "0it [00:00, ?it/s]"
     ]
    },
    {
     "name": "stdout",
     "output_type": "stream",
     "text": [
      "Auto mode detect has set 'all' mode\n",
      "Priors:\n",
      "Limb darkening model: quadratic\n",
      "n telescopes: 1\n",
      "n filters: 1\n",
      "n epochs: 1\n",
      "P:\tt -\tf -\te -\tGaussian - mean: 0.7 - stdev: 0.001\n",
      "t0:\tt -\tf -\te -\tGaussian - mean: 0.0 - stdev: 0.007\n",
      "a:\tt -\tf -\te -\tGaussian - mean: 1.1 - stdev: 0.5\n",
      "rp:\tt -\tf 0\te -\tUniform - min: 0.023 - max: 0.03\n",
      "inc:\tt -\tf -\te -\tGaussian - mean: 90.0 - stdev: 1.2\n",
      "ecc:\tt -\tf -\te -\tFixed - value: 0.0\n",
      "w:\tt -\tf -\te -\tGaussian - mean: 90.0 - stdev: 1.2\n",
      "q0:\tt -\tf 0\te -\tUniform - min: 0 - max: 1\n",
      "q1:\tt -\tf 0\te -\tUniform - min: 0 - max: 1\n",
      "norm:\tt 0\tf 0\te 0\tUniform - min: 0.4997867363811523 - max: 1.500967929709325\n",
      "d0_0:\tt 0\tf 0\te 0\tUniform - min: -10 - max: 10\n",
      "Total 12 fitting parameters\n"
     ]
    },
    {
     "name": "stderr",
     "output_type": "stream",
     "text": [
      "11195it [04:04, 45.83it/s, +300 | bound: 124 | nc: 1 | ncall: 641913 | eff(%):  1.791 | loglstar:   -inf < -55.636 <    inf | logz: -91.791 +/-  0.478 | dlogz:  0.001 >  0.309]    \n"
     ]
    },
    {
     "name": "stdout",
     "output_type": "stream",
     "text": [
      "\n",
      "Best fit results:\n",
      "P:\t\t 0.699998 ± 2.4e-05\n",
      "t0:\t\t 0.00634 ± 0.00276\n",
      "a:\t\t 1.045979 ± 0.009489\n",
      "inc:\t\t 89.028649 ± 0.38642\n",
      "w:\t\t 89.056769 ± 0.503402\n",
      "rp_0:\t\t 0.023095 ± 0.000184\n",
      "q0_0:\t\t 0.5828814001558493 ± 0.1253724485732119\n",
      "q0_0:\t\t 0.41356767676069567 ± 0.13466627787757873\n",
      "q0_0:\t\t 0.00656247818280044 ± 0.08163999511943787\n",
      "q1_0:\t\t 0.5889636777052556 ± 0.15408806439596243\n",
      "d0_0:\t\t -2.6e-05 ± 5.7e-05\n",
      "norm_t0_f0_e0:\t 0.999961 ± 1.5e-05\n",
      "chi2:\t\t 55.63576\n",
      "red chi2:\t 0.9935\n",
      "Saving full results...\n",
      "Extracting results dict\n",
      "Plotting batch 0 samples to ./plots/unfolded/batch_0_samples.png\n"
     ]
    },
    {
     "name": "stderr",
     "output_type": "stream",
     "text": [
      "WARNING:root:Too few points to create valid contours\n",
      "WARNING:root:Too few points to create valid contours\n",
      "WARNING:root:Too few points to create valid contours\n",
      "WARNING:root:Too few points to create valid contours\n",
      "WARNING:root:Too few points to create valid contours\n",
      "WARNING:root:Too few points to create valid contours\n",
      "WARNING:root:Too few points to create valid contours\n",
      "WARNING:root:Too few points to create valid contours\n",
      "WARNING:root:Too few points to create valid contours\n"
     ]
    },
    {
     "name": "stdout",
     "output_type": "stream",
     "text": [
      "Calculating best values for this run\n",
      "Combining results dicts\n",
      "Exception raised whilst saving results:\n",
      "index 1 is out of bounds for axis 0 with size 1\n",
      "Unable to save results\n",
      "Initialising best fit model\n"
     ]
    },
    {
     "name": "stderr",
     "output_type": "stream",
     "text": [
      "  File \"/Users/gen06846/anaconda3/envs/QML/lib/python3.9/site-packages/transitfit/retriever.py\", line 360, in _run_full_retrieval\n",
      "    output_handler.save_results([results], [priors], [lightcurves],\n",
      "  File \"/Users/gen06846/anaconda3/envs/QML/lib/python3.9/site-packages/transitfit/output_handler.py\", line 332, in save_results\n",
      "    best_vals, combined_results = self.get_best_vals(results_dicts, fit_ld)\n",
      "  File \"/Users/gen06846/anaconda3/envs/QML/lib/python3.9/site-packages/transitfit/output_handler.py\", line 446, in get_best_vals\n",
      "    best_vals, combined_dict = self.add_best_u(best_vals, combined_dict)\n",
      "  File \"/Users/gen06846/anaconda3/envs/QML/lib/python3.9/site-packages/transitfit/output_handler.py\", line 535, in add_best_u\n",
      "    filter_q[b,0,qi] = combined_dict[q][i][b][0]\n"
     ]
    },
    {
     "ename": "FileNotFoundError",
     "evalue": "[Errno 2] No such file or directory: './output_parameters/summary_output.csv'",
     "output_type": "error",
     "traceback": [
      "\u001b[0;31m---------------------------------------------------------------------------\u001b[0m",
      "\u001b[0;31mFileNotFoundError\u001b[0m                         Traceback (most recent call last)",
      "\u001b[0;32m<ipython-input-4-7a751e249084>\u001b[0m in \u001b[0;36m<module>\u001b[0;34m\u001b[0m\n\u001b[0;32m----> 1\u001b[0;31m \u001b[0mresults\u001b[0m \u001b[0;34m=\u001b[0m \u001b[0mrun_retrieval\u001b[0m\u001b[0;34m(\u001b[0m\u001b[0;34m'input_data.csv'\u001b[0m\u001b[0;34m,\u001b[0m \u001b[0;34m'priors.csv'\u001b[0m\u001b[0;34m,\u001b[0m \u001b[0;34m'filter_profiles.csv'\u001b[0m\u001b[0;34m,\u001b[0m \u001b[0mplot\u001b[0m\u001b[0;34m=\u001b[0m\u001b[0;32mTrue\u001b[0m\u001b[0;34m)\u001b[0m\u001b[0;31m#, fitting_mode='batched')\u001b[0m\u001b[0;34m\u001b[0m\u001b[0;34m\u001b[0m\u001b[0m\n\u001b[0m",
      "\u001b[0;32m~/anaconda3/envs/QML/lib/python3.9/site-packages/transitfit/_pipeline.py\u001b[0m in \u001b[0;36mrun_retrieval\u001b[0;34m(data_files, priors, filter_info, detrending_list, limb_darkening_model, ld_fit_method, fitting_mode, max_batch_parameters, batch_overlap, host_T, host_logg, host_z, host_r, nlive, dlogz, maxiter, maxcall, dynesty_sample, dynesty_bounding, normalise, detrend, results_output_folder, final_lightcurve_folder, summary_file, full_output_file, plot_folder, plot, marker_color, line_color, ldtk_cache, ldtk_samples, do_ld_mc, data_skiprows, allow_ttv, filter_delimiter, detrending_limits, bin_data, cadence, binned_color, walks, slices, n_procs)\u001b[0m\n\u001b[1;32m    319\u001b[0m \u001b[0;34m\u001b[0m\u001b[0m\n\u001b[1;32m    320\u001b[0m     \u001b[0;31m# Run the retrieval!\u001b[0m\u001b[0;34m\u001b[0m\u001b[0;34m\u001b[0m\u001b[0;34m\u001b[0m\u001b[0m\n\u001b[0;32m--> 321\u001b[0;31m     results = retriever.run_retrieval(ld_fit_method, fitting_mode,\n\u001b[0m\u001b[1;32m    322\u001b[0m                                       \u001b[0mmax_batch_parameters\u001b[0m\u001b[0;34m,\u001b[0m \u001b[0mmaxiter\u001b[0m\u001b[0;34m,\u001b[0m \u001b[0mmaxcall\u001b[0m\u001b[0;34m,\u001b[0m\u001b[0;34m\u001b[0m\u001b[0;34m\u001b[0m\u001b[0m\n\u001b[1;32m    323\u001b[0m                                       \u001b[0mdynesty_sample\u001b[0m\u001b[0;34m,\u001b[0m \u001b[0mnlive\u001b[0m\u001b[0;34m,\u001b[0m \u001b[0mdlogz\u001b[0m\u001b[0;34m,\u001b[0m \u001b[0mplot\u001b[0m\u001b[0;34m,\u001b[0m\u001b[0;34m\u001b[0m\u001b[0;34m\u001b[0m\u001b[0m\n",
      "\u001b[0;32m~/anaconda3/envs/QML/lib/python3.9/site-packages/transitfit/retriever.py\u001b[0m in \u001b[0;36mrun_retrieval\u001b[0;34m(self, ld_fit_method, fitting_mode, max_parameters, maxiter, maxcall, sample, nlive, dlogz, plot, output_folder, lightcurve_folder, summary_file, full_output_file, plot_folder, marker_color, line_color, bound, normalise, detrend, overlap, bin_data, cadence, binned_color, walks, slices, n_procs)\u001b[0m\n\u001b[1;32m    668\u001b[0m         \u001b[0moutput_handler\u001b[0m \u001b[0;34m=\u001b[0m \u001b[0mOutputHandler\u001b[0m\u001b[0;34m(\u001b[0m\u001b[0mself\u001b[0m\u001b[0;34m.\u001b[0m\u001b[0mall_lightcurves\u001b[0m\u001b[0;34m,\u001b[0m \u001b[0mfull_prior\u001b[0m\u001b[0;34m,\u001b[0m \u001b[0mself\u001b[0m\u001b[0;34m.\u001b[0m\u001b[0mhost_r\u001b[0m\u001b[0;34m)\u001b[0m\u001b[0;34m\u001b[0m\u001b[0;34m\u001b[0m\u001b[0m\n\u001b[1;32m    669\u001b[0m \u001b[0;34m\u001b[0m\u001b[0m\n\u001b[0;32m--> 670\u001b[0;31m         \u001b[0moutput_handler\u001b[0m\u001b[0;34m.\u001b[0m\u001b[0msave_complete_results\u001b[0m\u001b[0;34m(\u001b[0m\u001b[0mfitting_mode\u001b[0m\u001b[0;34m,\u001b[0m \u001b[0mfull_prior\u001b[0m\u001b[0;34m,\u001b[0m \u001b[0moutput_folder\u001b[0m\u001b[0;34m,\u001b[0m \u001b[0msummary_file\u001b[0m\u001b[0;34m)\u001b[0m\u001b[0;34m\u001b[0m\u001b[0;34m\u001b[0m\u001b[0m\n\u001b[0m\u001b[1;32m    671\u001b[0m \u001b[0;34m\u001b[0m\u001b[0m\n\u001b[1;32m    672\u001b[0m         \u001b[0moutput_handler\u001b[0m\u001b[0;34m.\u001b[0m\u001b[0msave_final_light_curves\u001b[0m\u001b[0;34m(\u001b[0m\u001b[0mself\u001b[0m\u001b[0;34m.\u001b[0m\u001b[0mall_lightcurves\u001b[0m\u001b[0;34m,\u001b[0m \u001b[0mfull_prior\u001b[0m\u001b[0;34m,\u001b[0m \u001b[0mlightcurve_folder\u001b[0m\u001b[0;34m)\u001b[0m\u001b[0;34m\u001b[0m\u001b[0;34m\u001b[0m\u001b[0m\n",
      "\u001b[0;32m~/anaconda3/envs/QML/lib/python3.9/site-packages/transitfit/output_handler.py\u001b[0m in \u001b[0;36msave_complete_results\u001b[0;34m(self, mode, global_prior, output_folder, summary_file)\u001b[0m\n\u001b[1;32m    267\u001b[0m         \u001b[0mOnce\u001b[0m \u001b[0mall\u001b[0m \u001b[0mbatches\u001b[0m \u001b[0metc\u001b[0m \u001b[0mare\u001b[0m \u001b[0mrun\u001b[0m\u001b[0;34m,\u001b[0m \u001b[0mcollates\u001b[0m \u001b[0mall\u001b[0m \u001b[0mresults\u001b[0m \u001b[0;32mand\u001b[0m \u001b[0msaves\u001b[0m \u001b[0mto\u001b[0m \u001b[0mcsv\u001b[0m\u001b[0;34m\u001b[0m\u001b[0;34m\u001b[0m\u001b[0m\n\u001b[1;32m    268\u001b[0m         '''\n\u001b[0;32m--> 269\u001b[0;31m         \u001b[0m_\u001b[0m \u001b[0;34m=\u001b[0m \u001b[0mself\u001b[0m\u001b[0;34m.\u001b[0m\u001b[0m_initialise_best_model\u001b[0m\u001b[0;34m(\u001b[0m\u001b[0mmode\u001b[0m\u001b[0;34m,\u001b[0m \u001b[0mglobal_prior\u001b[0m\u001b[0;34m,\u001b[0m \u001b[0moutput_folder\u001b[0m\u001b[0;34m,\u001b[0m \u001b[0msummary_file\u001b[0m\u001b[0;34m)\u001b[0m\u001b[0;34m\u001b[0m\u001b[0;34m\u001b[0m\u001b[0m\n\u001b[0m\u001b[1;32m    270\u001b[0m \u001b[0;34m\u001b[0m\u001b[0m\n\u001b[1;32m    271\u001b[0m         \u001b[0mprint\u001b[0m\u001b[0;34m(\u001b[0m\u001b[0;34m'Saving final results'\u001b[0m\u001b[0;34m)\u001b[0m\u001b[0;34m\u001b[0m\u001b[0;34m\u001b[0m\u001b[0m\n",
      "\u001b[0;32m~/anaconda3/envs/QML/lib/python3.9/site-packages/transitfit/output_handler.py\u001b[0m in \u001b[0;36m_initialise_best_model\u001b[0;34m(self, mode, global_prior, output_folder, summary_file)\u001b[0m\n\u001b[1;32m    600\u001b[0m \u001b[0;34m\u001b[0m\u001b[0m\n\u001b[1;32m    601\u001b[0m         \u001b[0;31m# First use the top-level output\u001b[0m\u001b[0;34m\u001b[0m\u001b[0;34m\u001b[0m\u001b[0;34m\u001b[0m\u001b[0m\n\u001b[0;32m--> 602\u001b[0;31m         \u001b[0mtop_output\u001b[0m \u001b[0;34m=\u001b[0m \u001b[0mpd\u001b[0m\u001b[0;34m.\u001b[0m\u001b[0mread_csv\u001b[0m\u001b[0;34m(\u001b[0m\u001b[0mos\u001b[0m\u001b[0;34m.\u001b[0m\u001b[0mpath\u001b[0m\u001b[0;34m.\u001b[0m\u001b[0mjoin\u001b[0m\u001b[0;34m(\u001b[0m\u001b[0moutput_folder\u001b[0m\u001b[0;34m,\u001b[0m \u001b[0msummary_file\u001b[0m\u001b[0;34m)\u001b[0m\u001b[0;34m)\u001b[0m\u001b[0;34m\u001b[0m\u001b[0;34m\u001b[0m\u001b[0m\n\u001b[0m\u001b[1;32m    603\u001b[0m \u001b[0;34m\u001b[0m\u001b[0m\n\u001b[1;32m    604\u001b[0m         \u001b[0;31m# List of parameters which were fitted from the top level\u001b[0m\u001b[0;34m\u001b[0m\u001b[0;34m\u001b[0m\u001b[0;34m\u001b[0m\u001b[0m\n",
      "\u001b[0;32m~/anaconda3/envs/QML/lib/python3.9/site-packages/pandas/io/parsers.py\u001b[0m in \u001b[0;36mread_csv\u001b[0;34m(filepath_or_buffer, sep, delimiter, header, names, index_col, usecols, squeeze, prefix, mangle_dupe_cols, dtype, engine, converters, true_values, false_values, skipinitialspace, skiprows, skipfooter, nrows, na_values, keep_default_na, na_filter, verbose, skip_blank_lines, parse_dates, infer_datetime_format, keep_date_col, date_parser, dayfirst, cache_dates, iterator, chunksize, compression, thousands, decimal, lineterminator, quotechar, quoting, doublequote, escapechar, comment, encoding, dialect, error_bad_lines, warn_bad_lines, delim_whitespace, low_memory, memory_map, float_precision, storage_options)\u001b[0m\n\u001b[1;32m    608\u001b[0m     \u001b[0mkwds\u001b[0m\u001b[0;34m.\u001b[0m\u001b[0mupdate\u001b[0m\u001b[0;34m(\u001b[0m\u001b[0mkwds_defaults\u001b[0m\u001b[0;34m)\u001b[0m\u001b[0;34m\u001b[0m\u001b[0;34m\u001b[0m\u001b[0m\n\u001b[1;32m    609\u001b[0m \u001b[0;34m\u001b[0m\u001b[0m\n\u001b[0;32m--> 610\u001b[0;31m     \u001b[0;32mreturn\u001b[0m \u001b[0m_read\u001b[0m\u001b[0;34m(\u001b[0m\u001b[0mfilepath_or_buffer\u001b[0m\u001b[0;34m,\u001b[0m \u001b[0mkwds\u001b[0m\u001b[0;34m)\u001b[0m\u001b[0;34m\u001b[0m\u001b[0;34m\u001b[0m\u001b[0m\n\u001b[0m\u001b[1;32m    611\u001b[0m \u001b[0;34m\u001b[0m\u001b[0m\n\u001b[1;32m    612\u001b[0m \u001b[0;34m\u001b[0m\u001b[0m\n",
      "\u001b[0;32m~/anaconda3/envs/QML/lib/python3.9/site-packages/pandas/io/parsers.py\u001b[0m in \u001b[0;36m_read\u001b[0;34m(filepath_or_buffer, kwds)\u001b[0m\n\u001b[1;32m    460\u001b[0m \u001b[0;34m\u001b[0m\u001b[0m\n\u001b[1;32m    461\u001b[0m     \u001b[0;31m# Create the parser.\u001b[0m\u001b[0;34m\u001b[0m\u001b[0;34m\u001b[0m\u001b[0;34m\u001b[0m\u001b[0m\n\u001b[0;32m--> 462\u001b[0;31m     \u001b[0mparser\u001b[0m \u001b[0;34m=\u001b[0m \u001b[0mTextFileReader\u001b[0m\u001b[0;34m(\u001b[0m\u001b[0mfilepath_or_buffer\u001b[0m\u001b[0;34m,\u001b[0m \u001b[0;34m**\u001b[0m\u001b[0mkwds\u001b[0m\u001b[0;34m)\u001b[0m\u001b[0;34m\u001b[0m\u001b[0;34m\u001b[0m\u001b[0m\n\u001b[0m\u001b[1;32m    463\u001b[0m \u001b[0;34m\u001b[0m\u001b[0m\n\u001b[1;32m    464\u001b[0m     \u001b[0;32mif\u001b[0m \u001b[0mchunksize\u001b[0m \u001b[0;32mor\u001b[0m \u001b[0miterator\u001b[0m\u001b[0;34m:\u001b[0m\u001b[0;34m\u001b[0m\u001b[0;34m\u001b[0m\u001b[0m\n",
      "\u001b[0;32m~/anaconda3/envs/QML/lib/python3.9/site-packages/pandas/io/parsers.py\u001b[0m in \u001b[0;36m__init__\u001b[0;34m(self, f, engine, **kwds)\u001b[0m\n\u001b[1;32m    817\u001b[0m             \u001b[0mself\u001b[0m\u001b[0;34m.\u001b[0m\u001b[0moptions\u001b[0m\u001b[0;34m[\u001b[0m\u001b[0;34m\"has_index_names\"\u001b[0m\u001b[0;34m]\u001b[0m \u001b[0;34m=\u001b[0m \u001b[0mkwds\u001b[0m\u001b[0;34m[\u001b[0m\u001b[0;34m\"has_index_names\"\u001b[0m\u001b[0;34m]\u001b[0m\u001b[0;34m\u001b[0m\u001b[0;34m\u001b[0m\u001b[0m\n\u001b[1;32m    818\u001b[0m \u001b[0;34m\u001b[0m\u001b[0m\n\u001b[0;32m--> 819\u001b[0;31m         \u001b[0mself\u001b[0m\u001b[0;34m.\u001b[0m\u001b[0m_engine\u001b[0m \u001b[0;34m=\u001b[0m \u001b[0mself\u001b[0m\u001b[0;34m.\u001b[0m\u001b[0m_make_engine\u001b[0m\u001b[0;34m(\u001b[0m\u001b[0mself\u001b[0m\u001b[0;34m.\u001b[0m\u001b[0mengine\u001b[0m\u001b[0;34m)\u001b[0m\u001b[0;34m\u001b[0m\u001b[0;34m\u001b[0m\u001b[0m\n\u001b[0m\u001b[1;32m    820\u001b[0m \u001b[0;34m\u001b[0m\u001b[0m\n\u001b[1;32m    821\u001b[0m     \u001b[0;32mdef\u001b[0m \u001b[0mclose\u001b[0m\u001b[0;34m(\u001b[0m\u001b[0mself\u001b[0m\u001b[0;34m)\u001b[0m\u001b[0;34m:\u001b[0m\u001b[0;34m\u001b[0m\u001b[0;34m\u001b[0m\u001b[0m\n",
      "\u001b[0;32m~/anaconda3/envs/QML/lib/python3.9/site-packages/pandas/io/parsers.py\u001b[0m in \u001b[0;36m_make_engine\u001b[0;34m(self, engine)\u001b[0m\n\u001b[1;32m   1048\u001b[0m             )\n\u001b[1;32m   1049\u001b[0m         \u001b[0;31m# error: Too many arguments for \"ParserBase\"\u001b[0m\u001b[0;34m\u001b[0m\u001b[0;34m\u001b[0m\u001b[0;34m\u001b[0m\u001b[0m\n\u001b[0;32m-> 1050\u001b[0;31m         \u001b[0;32mreturn\u001b[0m \u001b[0mmapping\u001b[0m\u001b[0;34m[\u001b[0m\u001b[0mengine\u001b[0m\u001b[0;34m]\u001b[0m\u001b[0;34m(\u001b[0m\u001b[0mself\u001b[0m\u001b[0;34m.\u001b[0m\u001b[0mf\u001b[0m\u001b[0;34m,\u001b[0m \u001b[0;34m**\u001b[0m\u001b[0mself\u001b[0m\u001b[0;34m.\u001b[0m\u001b[0moptions\u001b[0m\u001b[0;34m)\u001b[0m  \u001b[0;31m# type: ignore[call-arg]\u001b[0m\u001b[0;34m\u001b[0m\u001b[0;34m\u001b[0m\u001b[0m\n\u001b[0m\u001b[1;32m   1051\u001b[0m \u001b[0;34m\u001b[0m\u001b[0m\n\u001b[1;32m   1052\u001b[0m     \u001b[0;32mdef\u001b[0m \u001b[0m_failover_to_python\u001b[0m\u001b[0;34m(\u001b[0m\u001b[0mself\u001b[0m\u001b[0;34m)\u001b[0m\u001b[0;34m:\u001b[0m\u001b[0;34m\u001b[0m\u001b[0;34m\u001b[0m\u001b[0m\n",
      "\u001b[0;32m~/anaconda3/envs/QML/lib/python3.9/site-packages/pandas/io/parsers.py\u001b[0m in \u001b[0;36m__init__\u001b[0;34m(self, src, **kwds)\u001b[0m\n\u001b[1;32m   1865\u001b[0m \u001b[0;34m\u001b[0m\u001b[0m\n\u001b[1;32m   1866\u001b[0m         \u001b[0;31m# open handles\u001b[0m\u001b[0;34m\u001b[0m\u001b[0;34m\u001b[0m\u001b[0;34m\u001b[0m\u001b[0m\n\u001b[0;32m-> 1867\u001b[0;31m         \u001b[0mself\u001b[0m\u001b[0;34m.\u001b[0m\u001b[0m_open_handles\u001b[0m\u001b[0;34m(\u001b[0m\u001b[0msrc\u001b[0m\u001b[0;34m,\u001b[0m \u001b[0mkwds\u001b[0m\u001b[0;34m)\u001b[0m\u001b[0;34m\u001b[0m\u001b[0;34m\u001b[0m\u001b[0m\n\u001b[0m\u001b[1;32m   1868\u001b[0m         \u001b[0;32massert\u001b[0m \u001b[0mself\u001b[0m\u001b[0;34m.\u001b[0m\u001b[0mhandles\u001b[0m \u001b[0;32mis\u001b[0m \u001b[0;32mnot\u001b[0m \u001b[0;32mNone\u001b[0m\u001b[0;34m\u001b[0m\u001b[0;34m\u001b[0m\u001b[0m\n\u001b[1;32m   1869\u001b[0m         \u001b[0;32mfor\u001b[0m \u001b[0mkey\u001b[0m \u001b[0;32min\u001b[0m \u001b[0;34m(\u001b[0m\u001b[0;34m\"storage_options\"\u001b[0m\u001b[0;34m,\u001b[0m \u001b[0;34m\"encoding\"\u001b[0m\u001b[0;34m,\u001b[0m \u001b[0;34m\"memory_map\"\u001b[0m\u001b[0;34m,\u001b[0m \u001b[0;34m\"compression\"\u001b[0m\u001b[0;34m)\u001b[0m\u001b[0;34m:\u001b[0m\u001b[0;34m\u001b[0m\u001b[0;34m\u001b[0m\u001b[0m\n",
      "\u001b[0;32m~/anaconda3/envs/QML/lib/python3.9/site-packages/pandas/io/parsers.py\u001b[0m in \u001b[0;36m_open_handles\u001b[0;34m(self, src, kwds)\u001b[0m\n\u001b[1;32m   1360\u001b[0m         \u001b[0mLet\u001b[0m \u001b[0mthe\u001b[0m \u001b[0mreaders\u001b[0m \u001b[0mopen\u001b[0m \u001b[0mIOHanldes\u001b[0m \u001b[0mafter\u001b[0m \u001b[0mthey\u001b[0m \u001b[0mare\u001b[0m \u001b[0mdone\u001b[0m \u001b[0;32mwith\u001b[0m \u001b[0mtheir\u001b[0m \u001b[0mpotential\u001b[0m \u001b[0mraises\u001b[0m\u001b[0;34m.\u001b[0m\u001b[0;34m\u001b[0m\u001b[0;34m\u001b[0m\u001b[0m\n\u001b[1;32m   1361\u001b[0m         \"\"\"\n\u001b[0;32m-> 1362\u001b[0;31m         self.handles = get_handle(\n\u001b[0m\u001b[1;32m   1363\u001b[0m             \u001b[0msrc\u001b[0m\u001b[0;34m,\u001b[0m\u001b[0;34m\u001b[0m\u001b[0;34m\u001b[0m\u001b[0m\n\u001b[1;32m   1364\u001b[0m             \u001b[0;34m\"r\"\u001b[0m\u001b[0;34m,\u001b[0m\u001b[0;34m\u001b[0m\u001b[0;34m\u001b[0m\u001b[0m\n",
      "\u001b[0;32m~/anaconda3/envs/QML/lib/python3.9/site-packages/pandas/io/common.py\u001b[0m in \u001b[0;36mget_handle\u001b[0;34m(path_or_buf, mode, encoding, compression, memory_map, is_text, errors, storage_options)\u001b[0m\n\u001b[1;32m    640\u001b[0m                 \u001b[0merrors\u001b[0m \u001b[0;34m=\u001b[0m \u001b[0;34m\"replace\"\u001b[0m\u001b[0;34m\u001b[0m\u001b[0;34m\u001b[0m\u001b[0m\n\u001b[1;32m    641\u001b[0m             \u001b[0;31m# Encoding\u001b[0m\u001b[0;34m\u001b[0m\u001b[0;34m\u001b[0m\u001b[0;34m\u001b[0m\u001b[0m\n\u001b[0;32m--> 642\u001b[0;31m             handle = open(\n\u001b[0m\u001b[1;32m    643\u001b[0m                 \u001b[0mhandle\u001b[0m\u001b[0;34m,\u001b[0m\u001b[0;34m\u001b[0m\u001b[0;34m\u001b[0m\u001b[0m\n\u001b[1;32m    644\u001b[0m                 \u001b[0mioargs\u001b[0m\u001b[0;34m.\u001b[0m\u001b[0mmode\u001b[0m\u001b[0;34m,\u001b[0m\u001b[0;34m\u001b[0m\u001b[0;34m\u001b[0m\u001b[0m\n",
      "\u001b[0;31mFileNotFoundError\u001b[0m: [Errno 2] No such file or directory: './output_parameters/summary_output.csv'"
     ]
    }
   ],
   "source": [
    "results = run_retrieval('input_data.csv', 'priors.csv', 'filter_profiles.csv', plot=True)#, fitting_mode='batched')"
   ]
  },
  {
   "cell_type": "code",
   "execution_count": null,
   "id": "231ef790-d7db-4655-8195-62b73d922b63",
   "metadata": {
    "tags": []
   },
   "outputs": [],
   "source": [
    "# A complete list of the parameters can be seen here\n",
    "run_retrieval??"
   ]
  },
  {
   "cell_type": "code",
   "execution_count": null,
   "id": "155f8da2-96d4-4359-a4ec-b3ccb734331b",
   "metadata": {},
   "outputs": [],
   "source": [
    "#results = run_retrieval('input_data.csv', 'priors.csv', 'filter_profiles.csv', fitting_mode='all',plot=True, results_output_folder='summary', summary_file='test.csv',final_lightcurve_folder='lightcurve')"
   ]
  },
  {
   "cell_type": "code",
   "execution_count": 5,
   "id": "1359550c-e1ef-4101-8696-505926e7c030",
   "metadata": {},
   "outputs": [
    {
     "data": {
      "text/plain": [
       "'2.3.0'"
      ]
     },
     "execution_count": 5,
     "metadata": {},
     "output_type": "execute_result"
    }
   ],
   "source": [
    "import transitfit\n",
    "transitfit.__version__"
   ]
  },
  {
   "cell_type": "code",
   "execution_count": null,
   "id": "eafbc30e-51d4-440b-b1e4-3bfcfad8c7ae",
   "metadata": {},
   "outputs": [],
   "source": []
  }
 ],
 "metadata": {
  "kernelspec": {
   "display_name": "Python 3",
   "language": "python",
   "name": "python3"
  },
  "language_info": {
   "codemirror_mode": {
    "name": "ipython",
    "version": 3
   },
   "file_extension": ".py",
   "mimetype": "text/x-python",
   "name": "python",
   "nbconvert_exporter": "python",
   "pygments_lexer": "ipython3",
   "version": "3.9.4"
  }
 },
 "nbformat": 4,
 "nbformat_minor": 5
}
